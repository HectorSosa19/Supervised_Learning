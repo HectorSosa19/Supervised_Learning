{
 "cells": [
  {
   "cell_type": "code",
   "execution_count": 2,
   "id": "5f60cd94-002f-4cb7-987a-59d65b19f29d",
   "metadata": {},
   "outputs": [
    {
     "name": "stdout",
     "output_type": "stream",
     "text": [
      "Squared error of performance(MSE): 439981134.68217283\n",
      "Print performance metrics(R^2) 0.9942524155873212\n",
      "Coefficient of Manual Determination(R²): 0.983\n",
      "Manual Mean Square Error: 340.0\n"
     ]
    }
   ],
   "source": [
    "import pandas as pd\n",
    "import numpy as np \n",
    "from sklearn.model_selection import train_test_split\n",
    "from sklearn.linear_model import LinearRegression\n",
    "from sklearn.metrics import mean_squared_error,r2_score\n",
    "\n",
    "#Reading the house data\n",
    "read_csv = pd.read_csv(\"../houses-data/datos.csv\")\n",
    "x = read_csv[['Tamaño','Num_Habitaciones' ,'Edad']]\n",
    "y = read_csv['Precio']\n",
    "#Divide all the data to training model and testing\n",
    "x_train , x_test , y_train , y_test = train_test_split(x,y , test_size=0.2 , random_state=0)\n",
    "\n",
    "#Create model to lineal regression , try to find relations in the input variables\n",
    "model = LinearRegression()\n",
    "#Training Model , the model learn what is the best input and output\n",
    "model.fit(x_train , y_train)\n",
    "\n",
    "#Predict model ,try to predict the data with the model trained\n",
    "y_pred = model.predict(x_test)\n",
    "\n",
    "#Calculate performance metrics\n",
    "mse = mean_squared_error(y_test , y_pred)\n",
    "r2 = r2_score(y_test , y_pred)\n",
    "\n",
    "print('Squared error of performance(MSE):' , mse)\n",
    "print('Print performance metrics(R^2)' , r2)\n",
    "\n",
    "#Real values and predict model\n",
    "y_test_manual = np.array([300, 400, 500, 600, 700])\n",
    "y_pred_manual = np.array([320, 380, 520, 590, 720])\n",
    "# Calculate MSE\n",
    "mse_manual = mean_squared_error(y_test_manual, y_pred_manual)\n",
    "# Calculate R²\n",
    "r2_manual = r2_score(y_test_manual, y_pred_manual)\n",
    "\n",
    "print('Coefficient of Manual Determination(R²):', r2_manual)\n",
    "print('Manual Mean Square Error:', mse_manual)"
   ]
  },
  {
   "cell_type": "code",
   "execution_count": null,
   "id": "0f6f6a6d-1171-4e49-8814-0446d21e55d6",
   "metadata": {},
   "outputs": [],
   "source": []
  }
 ],
 "metadata": {
  "kernelspec": {
   "display_name": "Python 3 (ipykernel)",
   "language": "python",
   "name": "python3"
  },
  "language_info": {
   "codemirror_mode": {
    "name": "ipython",
    "version": 3
   },
   "file_extension": ".py",
   "mimetype": "text/x-python",
   "name": "python",
   "nbconvert_exporter": "python",
   "pygments_lexer": "ipython3",
   "version": "3.12.6"
  }
 },
 "nbformat": 4,
 "nbformat_minor": 5
}
